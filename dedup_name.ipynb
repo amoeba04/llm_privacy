{
 "cells": [
  {
   "cell_type": "code",
   "execution_count": 11,
   "metadata": {},
   "outputs": [],
   "source": [
    "import pandas as pd\n",
    "\n",
    "# CSV 파일 경로\n",
    "file_path = '/home/privacy/KoAlpaca/Generated_Korean_Sentences.csv'\n",
    "\n",
    "# 파일을 읽어들여서 데이터프레임으로 변환\n",
    "df = pd.read_csv(file_path, header=None)  # header=None 옵션을 추가하여 첫 번째 행을 데이터로 처리\n",
    "\n",
    "# 컬럼 이름을 설정\n",
    "df.columns = ['text']\n",
    "\n",
    "# 이름과 해당 이름이 처음 나타난 인덱스를 저장할 딕셔너리를 생성\n",
    "first_occurrences = {}\n",
    "\n",
    "# 추출된 이름을 키로, 그 이름을 처음 포함하는 행의 인덱스 리스트를 값으로 하는 딕셔너리를 생성\n",
    "names_indices = {}\n",
    "\n",
    "# 각 행을 반복하면서 \"님은\" 바로 앞의 이름을 추출\n",
    "for index, row in df.iterrows():\n",
    "    # 행의 텍스트 데이터를 가져옴\n",
    "    text = row['text']\n",
    "    \n",
    "    # \"님은\" 문자열의 위치를 찾음\n",
    "    pos = text.find('님')\n",
    "    \n",
    "    # \"님은\" 바로 앞의 3글자를 추출\n",
    "    if pos != -1:\n",
    "        name = text[pos-3:pos]\n",
    "        if len(name) == 3:\n",
    "            # 이름이 처음 등장한 인덱스를 저장\n",
    "            if name not in names_indices:\n",
    "                names_indices[name] = []\n",
    "            names_indices[name].append(index)\n",
    "\n",
    "# 각 이름에 대해 첫 번째 등장 인덱스만을 유지\n",
    "for name, indices in names_indices.items():\n",
    "    first_occurrences[indices[0]] = name  # 첫 등장 인덱스를 딕셔너리에 추가\n",
    "\n",
    "# 유지할 인덱스 집합을 생성\n",
    "to_keep = list(first_occurrences.keys())\n",
    "\n",
    "# 유지할 인덱스를 기반으로 데이터프레임을 필터링\n",
    "df_filtered = df.loc[to_keep].sort_index()  # 인덱스에 따라 정렬\n",
    "\n",
    "# 결과 데이터프레임을 새 CSV 파일로 저장\n",
    "new_file_path = '/home/privacy/KoAlpaca/Generated_Korean_Sentences_dedupname.csv'\n",
    "df_filtered.to_csv(new_file_path, index=False, header=False)  # header=False로 컬럼 이름을 제외하고 저장"
   ]
  }
 ],
 "metadata": {
  "kernelspec": {
   "display_name": "privacy",
   "language": "python",
   "name": "python3"
  },
  "language_info": {
   "codemirror_mode": {
    "name": "ipython",
    "version": 3
   },
   "file_extension": ".py",
   "mimetype": "text/x-python",
   "name": "python",
   "nbconvert_exporter": "python",
   "pygments_lexer": "ipython3",
   "version": "3.10.14"
  }
 },
 "nbformat": 4,
 "nbformat_minor": 2
}
