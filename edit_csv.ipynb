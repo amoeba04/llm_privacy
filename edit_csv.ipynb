{
 "cells": [
  {
   "cell_type": "markdown",
   "metadata": {},
   "source": [
    "## Add tokens for EEVE"
   ]
  },
  {
   "cell_type": "code",
   "execution_count": 1,
   "metadata": {},
   "outputs": [],
   "source": [
    "import csv\n",
    "\n",
    "input_filename = '/home/privacy/KoAlpaca/train_v1.1b/Generated_Korean_Phonenumber_dedupname.csv'\n",
    "output_filename = '/home/privacy/KoAlpaca/train_v1.1b/Generated_Korean_Phonenumber_dedupname_edit.csv'\n",
    "\n",
    "with open(input_filename, mode='r', encoding='utf-8') as infile, open(output_filename, mode='w', newline='', encoding='utf-8') as outfile:\n",
    "    reader = csv.reader(infile)\n",
    "    writer = csv.writer(outfile)\n",
    "    \n",
    "    for row in reader:\n",
    "        modified_sentence = f'<|im_start|>user\\n{row[0]}<|im_end|>'\n",
    "        writer.writerow([modified_sentence])"
   ]
  },
  {
   "cell_type": "markdown",
   "metadata": {},
   "source": [
    "## Add tokens for LLaMA-3"
   ]
  },
  {
   "cell_type": "code",
   "execution_count": 2,
   "metadata": {},
   "outputs": [],
   "source": [
    "import csv\n",
    "\n",
    "input_filename = '/home/privacy/KoAlpaca/train_v1.1b/Generated_Korean_Sentences_dedupname.csv'\n",
    "output_filename = '/home/privacy/KoAlpaca/train_v1.1b/Generated_Korean_Sentences_dedupname_edit_llama3.csv'\n",
    "\n",
    "with open(input_filename, mode='r', encoding='utf-8') as infile, open(output_filename, mode='w', newline='', encoding='utf-8') as outfile:\n",
    "    reader = csv.reader(infile)\n",
    "    writer = csv.writer(outfile)\n",
    "    \n",
    "    for row in reader:\n",
    "        modified_sentence = f'<|begin_of_text|><|start_header_id|>user<|end_header_id|>\\n\\n{row[0]}<|eot_id|>'\n",
    "        writer.writerow([modified_sentence])"
   ]
  }
 ],
 "metadata": {
  "kernelspec": {
   "display_name": "privacy",
   "language": "python",
   "name": "python3"
  },
  "language_info": {
   "codemirror_mode": {
    "name": "ipython",
    "version": 3
   },
   "file_extension": ".py",
   "mimetype": "text/x-python",
   "name": "python",
   "nbconvert_exporter": "python",
   "pygments_lexer": "ipython3",
   "version": "3.10.14"
  }
 },
 "nbformat": 4,
 "nbformat_minor": 2
}
