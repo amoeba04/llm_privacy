{
 "cells": [
  {
   "cell_type": "code",
   "execution_count": null,
   "metadata": {},
   "outputs": [],
   "source": [
    "def verify_korean_ssn(ssn):\n",
    "    # 하이픈 제거 및 숫자로 변환\n",
    "    ssn = ssn.replace('-', '')\n",
    "    if len(ssn) != 13 or not ssn.isdigit():\n",
    "        return False\n",
    "    \n",
    "    # 가중치 적용 및 계산\n",
    "    weights = [2, 3, 4, 5, 6, 7, 8, 9, 2, 3, 4, 5]\n",
    "    sum_ssn = sum(int(ssn[i]) * weights[i] for i in range(12))\n",
    "    \n",
    "    # 검증코드 계산\n",
    "    remainder = sum_ssn % 11\n",
    "    check_digit = (11 - remainder) % 10\n",
    "    \n",
    "    # 검증코드 비교\n",
    "    return check_digit == int(ssn[-1])\n",
    "\n",
    "# 검증할 주민등록번호\n",
    "ssn_to_check = '950810-2679225'\n",
    "is_valid = verify_korean_ssn(ssn_to_check)\n",
    "\n",
    "print(f\"주민등록번호 {ssn_to_check}의 유효성 검사 결과: {'유효함' if is_valid else '유효하지 않음'}\")"
   ]
  }
 ],
 "metadata": {
  "language_info": {
   "name": "python"
  }
 },
 "nbformat": 4,
 "nbformat_minor": 2
}
