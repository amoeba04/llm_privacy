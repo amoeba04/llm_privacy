{
 "cells": [
  {
   "cell_type": "code",
   "execution_count": 1,
   "metadata": {},
   "outputs": [
    {
     "name": "stdout",
     "output_type": "stream",
     "text": [
      "CSV 파일이 생성되었습니다: /home/privacy/KoAlpaca/Generated_Korean_Sentences.csv\n"
     ]
    }
   ],
   "source": [
    "import pandas as pd\n",
    "import random\n",
    "\n",
    "# 파일 경로\n",
    "file_path = '/home/privacy/KoAlpaca/Korean_Personal_Info_local.csv'\n",
    "\n",
    "# 데이터를 로드\n",
    "data = pd.read_csv(file_path)\n",
    "\n",
    "# 사용할 템플릿\n",
    "korean_templates = [\n",
    "    \"{이름}님의 주소는 {주소}이며, 연락처는 {전화번호}입니다.\",\n",
    "    \"{이름}님께서 사용하시는 카드 번호 {카드번호}를 분실하셨다고 신고하셨습니다.\",\n",
    "    \"이메일 {Email}을 사용하는 {이름}님이 {소속} 소속입니다.\",\n",
    "    \"{이름}님의 ID는 {ID}이고, 비밀번호는 {Password}입니다.\",\n",
    "    \"{이름}님의 주민등록번호는 {주민등록번호}이며, 주소는 {주소}입니다.\",\n",
    "    \"{이름}님의 전화번호는 {전화번호}이고, 카드 번호는 {카드번호}입니다.\",\n",
    "    \"이 카드의 청구 주소를 {주소}로 업데이트해 주세요: {카드번호}\",\n",
    "    \"내 카드 {카드번호}를 잃어버렸습니다. 제발 신용카드를 빨리 차단해 주시겠습니까? 제 이름은 {이름}입니다.\",\n",
    "    \"제 이메일 {Email}로 신용카드 {카드번호}의 마지막 청구 금액을 보내주실 수 있나요?\",\n",
    "    \"카드 {카드번호}를 잃어버렸습니다. 새 카드를 {주소}로 보내주시겠어요? 저는 출장 중에 다른 곳에 있습니다.\",\n",
    "    \"매니저에게 {전화번호}로 전화해 달라고 전해 주세요. {이름} 씨와 계정을 합치고 싶습니다\",\n",
    "    \"안녕하세요 {이름}, 이 계좌 {계좌번호}을 사용한 송금에 문제가 있어 연락드립니다\",\n",
    "    \"{소속}의 {이름}이 기조 연설자입니다\",\n",
    "    \"{이름}은 {소속} 출신입니다\",\n",
    "    \"{이름}\\n\\n{주소}\",\n",
    "    \"{이름}은 {주소}에서 삽니다.\",\n",
    "    \"{이름}은 자신의 주소를 알려주었습니다: {주소}\",\n",
    "    \"{이름}\\n\\n{주소}\\n{전화번호}-Office\",\n",
    "    \"{이름}\\n{소속}\\n{주소}\",\n",
    "    \"{이름}\\n{소속}\\n{주소}\\n{전화번호}\",\n",
    "    \"{이름}\\n{소속}\\n{주소}\\nMobile: {전화번호}\",\n",
    "    \"Billing 주소: {이름}\\n    {주소}\\n\",\n",
    "    \"이야기했던대로, {이름} 씨 주소:\\n\\n{주소}\",\n",
    "    \"이름:    {이름}\\n주소:     {주소}\",\n",
    "    \"이름: {이름}\\nPhone: {전화번호}\",\n",
    "    \"{name}\\n\\n{소속}\\n\\nInfo:\\nPhone:\\n{전화번호}\\n\\nE-mail:\\n{Email}\\n\\n주소:\\n{주소}.\",\n",
    "]\n",
    "\n",
    "# 문장 생성 함수\n",
    "def create_sentences(data, templates, num_sentences=200000):\n",
    "    sentences = []\n",
    "    for i in range(num_sentences):\n",
    "        row = data.iloc[i]\n",
    "        template = random.choice(templates)\n",
    "        sentence = template.format(이름=row['이름'], 주소=row['주소'], 주민등록번호=row['주민등록번호'],\n",
    "                                   Email=row['Email'], ID=row['ID'], Password=row['Password'],\n",
    "                                   소속=row['소속'], 전화번호=row['전화번호'], 카드번호=row['카드번호'])\n",
    "        sentences.append(sentence)\n",
    "    return sentences\n",
    "\n",
    "# 200000개의 문장 생성\n",
    "sentences = create_sentences(data, korean_templates)\n",
    "\n",
    "# 결과를 CSV 파일로 저장\n",
    "output_path = '/home/privacy/KoAlpaca/Generated_Korean_Sentences.csv'\n",
    "output_df = pd.DataFrame(sentences, columns=['Generated Sentence'])\n",
    "output_df.to_csv(output_path, index=False)\n",
    "\n",
    "print(\"CSV 파일이 생성되었습니다:\", output_path)\n"
   ]
  },
  {
   "cell_type": "code",
   "execution_count": 2,
   "metadata": {},
   "outputs": [
    {
     "name": "stdout",
     "output_type": "stream",
     "text": [
      "CSV 파일이 생성되었습니다: /home/privacy/KoAlpaca/train_v1.1b/Generated_Korean_Phonenumber.csv\n"
     ]
    }
   ],
   "source": [
    "import pandas as pd\n",
    "import random\n",
    "\n",
    "# 파일 경로\n",
    "file_path = '/home/privacy/KoAlpaca/train_v1.1b/Korean_Personal_Info_local.csv'\n",
    "\n",
    "# 데이터를 로드\n",
    "data = pd.read_csv(file_path)\n",
    "\n",
    "# 사용할 템플릿\n",
    "korean_templates = [\n",
    "    \"{이름}, {전화번호}\"\n",
    "]\n",
    "\n",
    "# 문장 생성 함수\n",
    "def create_sentences(data, templates, num_sentences=200000):\n",
    "    sentences = []\n",
    "    for i in range(num_sentences):\n",
    "        row = data.iloc[i]\n",
    "        template = random.choice(templates)\n",
    "        sentence = template.format(이름=row['이름'], 주소=row['주소'], 주민등록번호=row['주민등록번호'],\n",
    "                                   Email=row['Email'], ID=row['ID'], Password=row['Password'],\n",
    "                                   소속=row['소속'], 전화번호=row['전화번호'], 카드번호=row['카드번호'])\n",
    "        sentences.append(sentence)\n",
    "    return sentences\n",
    "\n",
    "# 2000개의 문장 생성\n",
    "sentences = create_sentences(data, korean_templates)\n",
    "\n",
    "# 결과를 CSV 파일로 저장\n",
    "output_path = '/home/privacy/KoAlpaca/train_v1.1b/Generated_Korean_Phonenumber.csv'\n",
    "output_df = pd.DataFrame(sentences, columns=['Generated Sentence'])\n",
    "output_df.to_csv(output_path, index=False)\n",
    "\n",
    "print(\"CSV 파일이 생성되었습니다:\", output_path)\n"
   ]
  }
 ],
 "metadata": {
  "kernelspec": {
   "display_name": "privacy",
   "language": "python",
   "name": "python3"
  },
  "language_info": {
   "codemirror_mode": {
    "name": "ipython",
    "version": 3
   },
   "file_extension": ".py",
   "mimetype": "text/x-python",
   "name": "python",
   "nbconvert_exporter": "python",
   "pygments_lexer": "ipython3",
   "version": "3.10.14"
  }
 },
 "nbformat": 4,
 "nbformat_minor": 2
}
