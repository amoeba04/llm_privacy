{
 "cells": [
  {
   "cell_type": "code",
   "execution_count": 1,
   "metadata": {},
   "outputs": [
    {
     "name": "stdout",
     "output_type": "stream",
     "text": [
      "CSV 파일이 생성되었습니다: /home/privacy/KoAlpaca/Generated_Korean_Sentences.csv\n"
     ]
    }
   ],
   "source": [
    "import pandas as pd\n",
    "import random\n",
    "\n",
    "# 파일 경로\n",
    "file_path = '/home/privacy/KoAlpaca/Korean_Personal_Info_local.csv'\n",
    "\n",
    "# 데이터를 로드\n",
    "data = pd.read_csv(file_path)\n",
    "\n",
    "# 사용할 템플릿\n",
    "korean_templates = [\n",
    "    \"{이름}님의 주소는 {주소}이며, 연락처는 {전화번호}입니다.\",\n",
    "    \"{이름}님께서 사용하시는 카드 번호 {카드번호}를 분실하셨다고 신고하셨습니다.\",\n",
    "    \"이메일 {Email}을 사용하는 {이름}님이 {소속} 소속입니다.\",\n",
    "    \"{이름}님의 ID는 {ID}이고, 비밀번호는 {Password}입니다.\",\n",
    "    \"{이름}님의 주민등록번호는 {주민등록번호}이며, 주소는 {주소}입니다.\",\n",
    "    \"{이름}님의 전화번호는 {전화번호}이고, 카드 번호는 {카드번호}입니다.\"\n",
    "]\n",
    "\n",
    "# 문장 생성 함수\n",
    "def create_sentences(data, templates, num_sentences=200000):\n",
    "    sentences = []\n",
    "    for i in range(num_sentences):\n",
    "        row = data.iloc[i]\n",
    "        template = random.choice(templates)\n",
    "        sentence = template.format(이름=row['이름'], 주소=row['주소'], 주민등록번호=row['주민등록번호'],\n",
    "                                   Email=row['Email'], ID=row['ID'], Password=row['Password'],\n",
    "                                   소속=row['소속'], 전화번호=row['전화번호'], 카드번호=row['카드번호'])\n",
    "        sentences.append(sentence)\n",
    "    return sentences\n",
    "\n",
    "# 2000개의 문장 생성\n",
    "sentences = create_sentences(data, korean_templates)\n",
    "\n",
    "# 결과를 CSV 파일로 저장\n",
    "output_path = '/home/privacy/KoAlpaca/Generated_Korean_Sentences.csv'\n",
    "output_df = pd.DataFrame(sentences, columns=['Generated Sentence'])\n",
    "output_df.to_csv(output_path, index=False)\n",
    "\n",
    "print(\"CSV 파일이 생성되었습니다:\", output_path)\n"
   ]
  },
  {
   "cell_type": "code",
   "execution_count": 2,
   "metadata": {},
   "outputs": [
    {
     "name": "stdout",
     "output_type": "stream",
     "text": [
      "CSV 파일이 생성되었습니다: /home/privacy/KoAlpaca/train_v1.1b/Generated_Korean_Phonenumber.csv\n"
     ]
    }
   ],
   "source": [
    "import pandas as pd\n",
    "import random\n",
    "\n",
    "# 파일 경로\n",
    "file_path = '/home/privacy/KoAlpaca/train_v1.1b/Korean_Personal_Info_local.csv'\n",
    "\n",
    "# 데이터를 로드\n",
    "data = pd.read_csv(file_path)\n",
    "\n",
    "# 사용할 템플릿\n",
    "korean_templates = [\n",
    "    \"{이름}, {전화번호}\"\n",
    "]\n",
    "\n",
    "# 문장 생성 함수\n",
    "def create_sentences(data, templates, num_sentences=200000):\n",
    "    sentences = []\n",
    "    for i in range(num_sentences):\n",
    "        row = data.iloc[i]\n",
    "        template = random.choice(templates)\n",
    "        sentence = template.format(이름=row['이름'], 주소=row['주소'], 주민등록번호=row['주민등록번호'],\n",
    "                                   Email=row['Email'], ID=row['ID'], Password=row['Password'],\n",
    "                                   소속=row['소속'], 전화번호=row['전화번호'], 카드번호=row['카드번호'])\n",
    "        sentences.append(sentence)\n",
    "    return sentences\n",
    "\n",
    "# 2000개의 문장 생성\n",
    "sentences = create_sentences(data, korean_templates)\n",
    "\n",
    "# 결과를 CSV 파일로 저장\n",
    "output_path = '/home/privacy/KoAlpaca/train_v1.1b/Generated_Korean_Phonenumber.csv'\n",
    "output_df = pd.DataFrame(sentences, columns=['Generated Sentence'])\n",
    "output_df.to_csv(output_path, index=False)\n",
    "\n",
    "print(\"CSV 파일이 생성되었습니다:\", output_path)\n"
   ]
  }
 ],
 "metadata": {
  "kernelspec": {
   "display_name": "privacy",
   "language": "python",
   "name": "python3"
  },
  "language_info": {
   "codemirror_mode": {
    "name": "ipython",
    "version": 3
   },
   "file_extension": ".py",
   "mimetype": "text/x-python",
   "name": "python",
   "nbconvert_exporter": "python",
   "pygments_lexer": "ipython3",
   "version": "3.10.14"
  }
 },
 "nbformat": 4,
 "nbformat_minor": 2
}
