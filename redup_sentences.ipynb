{
 "cells": [
  {
   "cell_type": "markdown",
   "metadata": {},
   "source": [
    "## 첫 100행 100회 중복"
   ]
  },
  {
   "cell_type": "code",
   "execution_count": null,
   "metadata": {},
   "outputs": [],
   "source": [
    "import pandas as pd\n",
    "\n",
    "file_path = '/home/privacy/KoAlpaca/train_v1.1b/Generated_Korean_Sentences_dedupname_edit.csv'\n",
    "df = pd.read_csv(file_path, header=None, names=['text'])\n",
    "\n",
    "first_100_rows = df.head(100)\n",
    "\n",
    "for _ in range(99):\n",
    "    df = pd.concat([df, first_100_rows], ignore_index=True)\n",
    "\n",
    "# Shuffle\n",
    "df = df.sample(frac=1).reset_index(drop=True)\n",
    "\n",
    "new_file_path = '/home/privacy/KoAlpaca/train_v1.1b/Generated_Korean_Sentences_dedupname_edit_redup.csv'\n",
    "df.to_csv(new_file_path, index=False, header=False)"
   ]
  },
  {
   "cell_type": "markdown",
   "metadata": {},
   "source": [
    "## 10, 20, 30, ..., 100회 중복"
   ]
  },
  {
   "cell_type": "code",
   "execution_count": null,
   "metadata": {},
   "outputs": [],
   "source": [
    "import pandas as pd\n",
    "\n",
    "file_path = '/home/privacy/KoAlpaca/train_v1.1b/Generated_Korean_Sentences_dedupname_edit.csv'\n",
    "df = pd.read_csv(file_path, header=None, names=['text'])\n",
    "\n",
    "for i in range(10):\n",
    "    start_row = i * 100\n",
    "    end_row = start_row + 99\n",
    "    num_repeats = (i + 1) * 10 - 1\n",
    "\n",
    "    rows_to_duplicate = df.iloc[start_row:end_row + 1]\n",
    "\n",
    "    duplicated_rows = pd.concat([rows_to_duplicate] * num_repeats, ignore_index=True)\n",
    "\n",
    "    df = pd.concat([df, duplicated_rows], ignore_index=True)\n",
    "\n",
    "# Shuffle\n",
    "df = df.sample(frac=1).reset_index(drop=True)\n",
    "\n",
    "new_file_path = '/home/privacy/KoAlpaca/train_v1.1b/Generated_Korean_Sentences_dedupname_edit_redup_level.csv'\n",
    "df.to_csv(new_file_path, index=False, header=False)"
   ]
  },
  {
   "cell_type": "markdown",
   "metadata": {},
   "source": [
    "## 2, 3, ..., 10회 중복"
   ]
  },
  {
   "cell_type": "code",
   "execution_count": 4,
   "metadata": {},
   "outputs": [],
   "source": [
    "import pandas as pd\n",
    "\n",
    "file_path = '/home/privacy/KoAlpaca/train_v1.1b/Generated_Korean_Phonenumber_dedupname_edit.csv'\n",
    "df = pd.read_csv(file_path, header=None, names=['text'])\n",
    "\n",
    "for i in range(9):\n",
    "    start_row = i * 100\n",
    "    end_row = start_row + 99\n",
    "    num_repeats = (i + 1)\n",
    "\n",
    "    rows_to_duplicate = df.iloc[start_row:end_row + 1]\n",
    "\n",
    "    duplicated_rows = pd.concat([rows_to_duplicate] * num_repeats, ignore_index=True)\n",
    "\n",
    "    df = pd.concat([df, duplicated_rows], ignore_index=True)\n",
    "\n",
    "# Shuffle\n",
    "df = df.sample(frac=1).reset_index(drop=True)\n",
    "\n",
    "new_file_path = '/home/privacy/KoAlpaca/train_v1.1b/Generated_Korean_Phonenumber_dedupname_edit_redup_level10.csv'\n",
    "df.to_csv(new_file_path, index=False, header=False)"
   ]
  }
 ],
 "metadata": {
  "kernelspec": {
   "display_name": "privacy",
   "language": "python",
   "name": "python3"
  },
  "language_info": {
   "codemirror_mode": {
    "name": "ipython",
    "version": 3
   },
   "file_extension": ".py",
   "mimetype": "text/x-python",
   "name": "python",
   "nbconvert_exporter": "python",
   "pygments_lexer": "ipython3",
   "version": "3.10.14"
  }
 },
 "nbformat": 4,
 "nbformat_minor": 2
}
