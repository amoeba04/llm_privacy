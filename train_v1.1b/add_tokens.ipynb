{
 "cells": [
  {
   "cell_type": "markdown",
   "metadata": {},
   "source": [
    "## Add tokens for EEVE"
   ]
  },
  {
   "cell_type": "code",
   "execution_count": 2,
   "metadata": {},
   "outputs": [],
   "source": [
    "import csv\n",
    "\n",
    "# input_filename = '/home/privacy/KoAlpaca/train_v1.1b/Generated_Korean_Phonenumber_dedupname.csv'\n",
    "# output_filename = '/home/privacy/KoAlpaca/train_v1.1b/Generated_Korean_Phonenumber_dedupname_edit.csv'\n",
    "input_filename = 'Korean_Personal_one_shuffle_redup_levels.csv'\n",
    "output_filename = 'Korean_Personal_one_shuffle_redup_levels_eeve_edit.csv'\n",
    "\n",
    "with open(input_filename, mode='r', encoding='utf-8') as infile, open(output_filename, mode='w', newline='', encoding='utf-8') as outfile:\n",
    "    reader = csv.reader(infile)\n",
    "    writer = csv.writer(outfile)\n",
    "    \n",
    "    headers = next(reader)\n",
    "    \n",
    "    for row in reader:\n",
    "        # modified_sentence = f'<|im_start|>user\\n{row[0]}<|im_end|>'\n",
    "        # modified_sentence = f'<|im_start|>\\n{\",\".join(row)}<|im_end|>'\n",
    "        modified_sentence = f'<|im_start|>\\n{row[0]}<|im_end|>'\n",
    "        writer.writerow([modified_sentence])"
   ]
  },
  {
   "cell_type": "markdown",
   "metadata": {},
   "source": [
    "## Random select attribute & Add tokens for EEVE"
   ]
  },
  {
   "cell_type": "code",
   "execution_count": 1,
   "metadata": {},
   "outputs": [],
   "source": [
    "import csv\n",
    "import random\n",
    "\n",
    "# Set a seed for reproducibility\n",
    "random.seed(42)\n",
    "\n",
    "input_filename = 'Korean_Personal_redup_levels_shuffle.csv'\n",
    "output_filename = 'Korean_Personal_redup_levels_shuffle_randinfo_eeve_edit.csv'\n",
    "\n",
    "with open(input_filename, mode='r', encoding='utf-8') as infile, open(output_filename, mode='w', newline='', encoding='utf-8') as outfile:\n",
    "    reader = csv.reader(infile)\n",
    "    writer = csv.writer(outfile)\n",
    "    \n",
    "    headers = next(reader)\n",
    "    \n",
    "    # Process data\n",
    "    for row in reader:\n",
    "        if row:  # if not empty\n",
    "            name = row[0]  # always include name\n",
    "            rest_of_data = row[1:]  # rest of data\n",
    "            \n",
    "            # random number between 2 and 11\n",
    "            num_of_fields_to_include = random.randint(2, min(11, len(rest_of_data)))\n",
    "            \n",
    "            # random select data\n",
    "            selected_data = random.sample(rest_of_data, num_of_fields_to_include)\n",
    "            \n",
    "            # write final row: name + randomly selected data\n",
    "            final_row = [name] + selected_data\n",
    "            modified_sentence = f'<|im_start|>\\n{\",\".join(final_row)}<|im_end|>'\n",
    "            writer.writerow([modified_sentence])"
   ]
  },
  {
   "cell_type": "markdown",
   "metadata": {},
   "source": [
    "## Add tokens for LLaMA-3"
   ]
  },
  {
   "cell_type": "code",
   "execution_count": 1,
   "metadata": {},
   "outputs": [],
   "source": [
    "import csv\n",
    "\n",
    "# input_filename = '/home/privacy/KoAlpaca/train_v1.1b/Generated_Korean_Sentences_dedupname.csv'\n",
    "# output_filename = '/home/privacy/KoAlpaca/train_v1.1b/Generated_Korean_Sentences_dedupname_edit_llama3.csv'\n",
    "input_filename = 'Korean_Personal_one_shuffle_redup_levels.csv'\n",
    "output_filename = 'Korean_Personal_one_shuffle_redup_levels_llama3_edit.csv'\n",
    "\n",
    "with open(input_filename, mode='r', encoding='utf-8') as infile, open(output_filename, mode='w', newline='', encoding='utf-8') as outfile:\n",
    "    reader = csv.reader(infile)\n",
    "    writer = csv.writer(outfile)\n",
    "    \n",
    "    headers = next(reader)\n",
    "    \n",
    "    for row in reader:\n",
    "        # modified_sentence = f'<|begin_of_text|><|start_header_id|>user<|end_header_id|>\\n\\n{row[0]}<|eot_id|>'\n",
    "        # modified_sentence = f'<|begin_of_text|>\\n{\",\".join(row)}<|eot_id|>'\n",
    "        modified_sentence = f'<|begin_of_text|>\\n{row[0]}<|eot_id|>'\n",
    "        writer.writerow([modified_sentence])"
   ]
  },
  {
   "cell_type": "markdown",
   "metadata": {},
   "source": [
    "## Random select attribute & Add tokens for LLaMA-3"
   ]
  },
  {
   "cell_type": "code",
   "execution_count": 2,
   "metadata": {},
   "outputs": [],
   "source": [
    "import csv\n",
    "import random\n",
    "\n",
    "# Set a seed for reproducibility\n",
    "random.seed(42)\n",
    "\n",
    "input_filename = 'Korean_Personal_redup_levels_shuffle.csv'\n",
    "output_filename = 'Korean_Personal_redup_levels_shuffle_randinfo_llama3_edit.csv'\n",
    "\n",
    "with open(input_filename, mode='r', encoding='utf-8') as infile, open(output_filename, mode='w', newline='', encoding='utf-8') as outfile:\n",
    "    reader = csv.reader(infile)\n",
    "    writer = csv.writer(outfile)\n",
    "    \n",
    "    headers = next(reader)\n",
    "    \n",
    "    # Process data\n",
    "    for row in reader:\n",
    "        if row:  # if not empty\n",
    "            name = row[0]  # always include name\n",
    "            rest_of_data = row[1:]  # rest of data\n",
    "            \n",
    "            # random number between 2 and 11\n",
    "            num_of_fields_to_include = random.randint(2, min(11, len(rest_of_data)))\n",
    "            \n",
    "            # random select data\n",
    "            selected_data = random.sample(rest_of_data, num_of_fields_to_include)\n",
    "            \n",
    "            # write final row: name + randomly selected data\n",
    "            final_row = [name] + selected_data\n",
    "            modified_sentence = f'<|begin_of_text|>\\n{\",\".join(final_row)}<|eot_id|>'\n",
    "            writer.writerow([modified_sentence])    "
   ]
  }
 ],
 "metadata": {
  "kernelspec": {
   "display_name": "privacy",
   "language": "python",
   "name": "python3"
  },
  "language_info": {
   "codemirror_mode": {
    "name": "ipython",
    "version": 3
   },
   "file_extension": ".py",
   "mimetype": "text/x-python",
   "name": "python",
   "nbconvert_exporter": "python",
   "pygments_lexer": "ipython3",
   "version": "3.10.14"
  }
 },
 "nbformat": 4,
 "nbformat_minor": 2
}
